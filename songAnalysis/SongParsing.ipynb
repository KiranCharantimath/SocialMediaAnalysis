{
 "cells": [
  {
   "cell_type": "code",
   "execution_count": 1,
   "metadata": {},
   "outputs": [],
   "source": [
    "import bs4 \n",
    "from urllib.request import urlopen as uReq\n",
    "from bs4 import BeautifulSoup as Soup \n",
    "my_url=\"https://en.wikipedia.org/wiki/Jalebi_(film)\"\n",
    "uClient=uReq(my_url)\n",
    "page_html=uClient.read()\n",
    "uClient.close()\n",
    "page_soup=Soup(page_html,\"html.parser\")"
   ]
  },
  {
   "cell_type": "code",
   "execution_count": 2,
   "metadata": {},
   "outputs": [],
   "source": [
    "tables = page_soup.findAll(\"table\",{\"class\":\"tracklist\"})"
   ]
  },
  {
   "cell_type": "code",
   "execution_count": 33,
   "metadata": {},
   "outputs": [
    {
     "name": "stdout",
     "output_type": "stream",
     "text": [
      "<tbody><tr><th class=\"tlheader mbox-text\" colspan=\"6\" style=\"text-align:left;background-color:#fff\">Track listing</th></tr><tr><th class=\"tlheader\" scope=\"col\" style=\"width:2em;padding-left:10px;padding-right:10px;text-align:right;background-color:#eee\"><abbr title=\"Number\">No.</abbr></th><th class=\"tlheader\" scope=\"col\" style=\"width:40%;text-align:left;background-color:#eee\">Title</th><th class=\"tlheader\" scope=\"col\" style=\"width:20%;text-align:left;background-color:#eee\">Lyrics</th><th class=\"tlheader\" scope=\"col\" style=\"width:20%;text-align:left;background-color:#eee\">Music</th><th class=\"tlheader\" scope=\"col\" style=\"width:20%;text-align:left;background-color:#eee\">Singer(s)</th><th class=\"tlheader\" scope=\"col\" style=\"width:4em;padding-right:10px;text-align:right;background-color:#eee\">Length</th></tr><tr style=\"background-color:#fff\"><td style=\"padding-right:10px;text-align:right;vertical-align:top\">1.</td><td style=\"vertical-align:top\">\"Tum Se\"</td><td style=\"vertical-align:top\">Manoj Kumarnath</td><td style=\"vertical-align:top\">Samuel–Akanksha</td><td style=\"vertical-align:top\"><a href=\"/wiki/Jubin_Nautiyal\" title=\"Jubin Nautiyal\">Jubin Nautiyal</a></td><td style=\"padding-right:10px;text-align:right;vertical-align:top\">4:16</td></tr><tr style=\"background-color:#f7f7f7\"><td style=\"padding-right:10px;text-align:right;vertical-align:top\">2.</td><td style=\"vertical-align:top\">\"Pal\"</td><td style=\"vertical-align:top\">Prashant Ingole, Kunaal Vermaa</td><td style=\"vertical-align:top\">Javed-Mohsin</td><td style=\"vertical-align:top\"><a href=\"/wiki/Arijit_Singh\" title=\"Arijit Singh\">Arijit Singh</a>, <a href=\"/wiki/Shreya_Ghoshal\" title=\"Shreya Ghoshal\">Shreya Ghoshal</a></td><td style=\"padding-right:10px;text-align:right;vertical-align:top\">4:07</td></tr><tr style=\"background-color:#fff\"><td style=\"padding-right:10px;text-align:right;vertical-align:top\">3.</td><td style=\"vertical-align:top\">\"Mera Pyaar Tera Pyaar\"</td><td style=\"vertical-align:top\"><a href=\"/wiki/Rashmi_Virag\" title=\"Rashmi Virag\">Rashmi Virag</a></td><td style=\"vertical-align:top\"><a href=\"/wiki/Jeet_Gannguli\" title=\"Jeet Gannguli\">Jeet Gannguli</a></td><td style=\"vertical-align:top\"><a href=\"/wiki/Arijit_Singh\" title=\"Arijit Singh\">Arijit Singh</a></td><td style=\"padding-right:10px;text-align:right;vertical-align:top\">4:35</td></tr><tr style=\"background-color:#f7f7f7\"><td style=\"padding-right:10px;text-align:right;vertical-align:top\">4.</td><td style=\"vertical-align:top\">\"Mujhme\"</td><td style=\"vertical-align:top\">Arafat Mehmood</td><td style=\"vertical-align:top\">Samuel–Akanksha</td><td style=\"vertical-align:top\"><a href=\"/wiki/Shilpa_Rao\" title=\"Shilpa Rao\">Shilpa Rao</a></td><td style=\"padding-right:10px;text-align:right;vertical-align:top\">3:05</td></tr><tr style=\"background-color:#fff\"><td style=\"padding-right:10px;text-align:right;vertical-align:top\">5.</td><td style=\"vertical-align:top\">\"Tera Mera Rishta\"</td><td style=\"vertical-align:top\">Arafat Mehmood</td><td style=\"vertical-align:top\"><a href=\"/wiki/Tanishk_Bagchi\" title=\"Tanishk Bagchi\">Tanishk Bagchi</a></td><td style=\"vertical-align:top\"><a href=\"/wiki/KK_(singer)\" title=\"KK (singer)\">K.K</a>, <a href=\"/wiki/Shreya_Ghoshal\" title=\"Shreya Ghoshal\">Shreya Ghoshal</a></td><td style=\"padding-right:10px;text-align:right;vertical-align:top\">4:53</td></tr><tr style=\"background-color:#f7f7f7\"><td style=\"padding-right:10px;text-align:right;vertical-align:top\">6.</td><td style=\"vertical-align:top\">\"Pehle Ke Jaisa\"</td><td style=\"vertical-align:top\"><a href=\"/wiki/Rashmi_Virag\" title=\"Rashmi Virag\">Rashmi Virag</a></td><td style=\"vertical-align:top\">Abhishek Mishra</td><td style=\"vertical-align:top\">KK</td><td style=\"padding-right:10px;text-align:right;vertical-align:top\">4:32</td></tr><tr style=\"background-color:#fff\"><td style=\"padding-right:10px;text-align:right;vertical-align:top\">7.</td><td style=\"vertical-align:top\">\"Tera Mera Rishta\" <span style=\"font-size:85%\">(Male)</span></td><td style=\"vertical-align:top\">Arafat Mehmood</td><td style=\"vertical-align:top\">Tanishk Bagchi</td><td style=\"vertical-align:top\">KK</td><td style=\"padding-right:10px;text-align:right;vertical-align:top\">4:53</td></tr><tr style=\"background-color:#f7f7f7\"><td style=\"padding-right:10px;text-align:right;vertical-align:top\">8.</td><td style=\"vertical-align:top\">\"Tum Se Adlib\"</td><td style=\"vertical-align:top\">Manoj Kumarnath</td><td style=\"vertical-align:top\">Samuel-Akanksha</td><td style=\"vertical-align:top\">Jubin Nautiyal</td><td style=\"padding-right:10px;text-align:right;vertical-align:top\">2:26</td></tr><tr style=\"background-color:#fff\"><td style=\"padding-right:10px;text-align:right;vertical-align:top\">9.</td><td style=\"vertical-align:top\">\"Tum Se Adlib\" <span style=\"font-size:85%\">(Female Version)</span></td><td style=\"vertical-align:top\">Manoj Kumarnath</td><td style=\"vertical-align:top\">Samuel-Akanksha</td><td style=\"vertical-align:top\">Shilpa Rao</td><td style=\"padding-right:10px;text-align:right;vertical-align:top\">2:33</td></tr><tr style=\"background-color:#f7f7f7\"><td style=\"padding-right:10px;text-align:right;vertical-align:top\">10.</td><td style=\"vertical-align:top\">\"Pal\" <span style=\"font-size:85%\">(Female Version)</span></td><td style=\"vertical-align:top\">Prashant Ingole, Kunaal Vermaa</td><td style=\"vertical-align:top\">Javed-Mohsin</td><td style=\"vertical-align:top\">Shreya Ghoshal</td><td style=\"padding-right:10px;text-align:right;vertical-align:top\">4:08</td></tr><tr><td colspan=\"5\" style=\"padding:0\"><span style=\"width:7.5em;float:right;padding-left:10px;background-color:#eee;margin-right:2px\"><b>Total length:</b></span></td><td style=\"padding:0 10px 0 0;text-align:right;background-color:#eee\"><b>39:28</b></td></tr></tbody>\n"
     ]
    }
   ],
   "source": [
    "for i in tables:\n",
    "    Track_list=i\n",
    "    break\n",
    "for i in Track_list:\n",
    "    print(i)"
   ]
  },
  {
   "cell_type": "code",
   "execution_count": null,
   "metadata": {},
   "outputs": [],
   "source": []
  }
 ],
 "metadata": {
  "kernelspec": {
   "display_name": "Python 3",
   "language": "python",
   "name": "python3"
  },
  "language_info": {
   "codemirror_mode": {
    "name": "ipython",
    "version": 3
   },
   "file_extension": ".py",
   "mimetype": "text/x-python",
   "name": "python",
   "nbconvert_exporter": "python",
   "pygments_lexer": "ipython3",
   "version": "3.5.2"
  }
 },
 "nbformat": 4,
 "nbformat_minor": 2
}
